{
 "cells": [
  {
   "cell_type": "code",
   "execution_count": 2,
   "id": "84fe4a13",
   "metadata": {},
   "outputs": [],
   "source": [
    "from scipy import linalg\n",
    "import numpy as np"
   ]
  },
  {
   "cell_type": "code",
   "execution_count": 3,
   "id": "530bf8e3",
   "metadata": {},
   "outputs": [
    {
     "name": "stdout",
     "output_type": "stream",
     "text": [
      "[[1 2 3]\n",
      " [4 5 6]\n",
      " [7 8 9]]\n"
     ]
    }
   ],
   "source": [
    "A=np.array([[1,2,3],[4,5,6],[7,8,9]])\n",
    "\n",
    "print(A)"
   ]
  },
  {
   "cell_type": "code",
   "execution_count": 4,
   "id": "a6ca1a5a",
   "metadata": {},
   "outputs": [
    {
     "name": "stdout",
     "output_type": "stream",
     "text": [
      "[1 2 3]\n"
     ]
    }
   ],
   "source": [
    "B=np.array([1,2,3])\n",
    "print(B)"
   ]
  },
  {
   "cell_type": "code",
   "execution_count": 5,
   "id": "3101287c",
   "metadata": {},
   "outputs": [
    {
     "name": "stdout",
     "output_type": "stream",
     "text": [
      "[-0.23333333  0.46666667  0.1       ]\n"
     ]
    },
    {
     "name": "stderr",
     "output_type": "stream",
     "text": [
      "C:\\Users\\86136\\AppData\\Local\\Temp/ipykernel_1636/3412012307.py:1: LinAlgWarning: Ill-conditioned matrix (rcond=2.20282e-18): result may not be accurate.\n",
      "  x=linalg.solve(A,B)\n"
     ]
    }
   ],
   "source": [
    "x=linalg.solve(A,B)\n",
    "print(x)"
   ]
  },
  {
   "cell_type": "markdown",
   "id": "6d1e209b",
   "metadata": {},
   "source": [
    "#  Check that your solution is correct by plugging it into the equation"
   ]
  },
  {
   "cell_type": "code",
   "execution_count": 6,
   "id": "33a98da3",
   "metadata": {},
   "outputs": [
    {
     "data": {
      "text/plain": [
       "array([ 0.00000000e+00, -2.22044605e-16,  0.00000000e+00])"
      ]
     },
     "execution_count": 6,
     "metadata": {},
     "output_type": "execute_result"
    }
   ],
   "source": [
    "np.dot(A,x)-B   #check"
   ]
  },
  {
   "cell_type": "markdown",
   "id": "8e973bc6",
   "metadata": {},
   "source": [
    "# Repeat steps a-d using a random 3x3 matrix B (instead of the vector b)\n"
   ]
  },
  {
   "cell_type": "code",
   "execution_count": 18,
   "id": "fbc2f797",
   "metadata": {},
   "outputs": [
    {
     "name": "stdout",
     "output_type": "stream",
     "text": [
      "[[0.0687475  0.76125826 0.7538302 ]\n",
      " [0.16254837 0.56335836 0.23651802]\n",
      " [0.05539379 0.48734358 0.53118694]]\n",
      "[[0.12684781 0.74191483 0.79019748]\n",
      " [0.18241329 0.35716567 0.03185026]\n",
      " [0.15528218 0.73784912 0.28760587]]\n"
     ]
    }
   ],
   "source": [
    "B1=np.random.rand(3,3)\n",
    "A1=np.random.rand(3,3)\n",
    "print(A1)\n",
    "print(B1)\n"
   ]
  },
  {
   "cell_type": "code",
   "execution_count": 19,
   "id": "031b56dc",
   "metadata": {},
   "outputs": [
    {
     "name": "stdout",
     "output_type": "stream",
     "text": [
      "[[  3.09379132   8.27218923 -10.67797772]\n",
      " [ -0.90457648  -3.21042625   3.97303024]\n",
      " [  0.79961471   3.47185082  -1.99013032]]\n"
     ]
    }
   ],
   "source": [
    "x1=linalg.solve(A1,B1)\n",
    "print(x1)"
   ]
  },
  {
   "cell_type": "code",
   "execution_count": 20,
   "id": "962d97c2",
   "metadata": {},
   "outputs": [
    {
     "data": {
      "text/plain": [
       "array([[-2.77555756e-17, -2.22044605e-16, -1.11022302e-16],\n",
       "       [-2.77555756e-17,  5.55111512e-17,  3.53883589e-16],\n",
       "       [ 0.00000000e+00,  2.22044605e-16, -1.11022302e-16]])"
      ]
     },
     "execution_count": 20,
     "metadata": {},
     "output_type": "execute_result"
    }
   ],
   "source": [
    "np.dot(A1,x1)-B1"
   ]
  },
  {
   "cell_type": "markdown",
   "id": "10635f0b",
   "metadata": {},
   "source": [
    "# Solve the eigenvalue problem for the matrix A and print the eigenvalues and eigenvectors\n"
   ]
  },
  {
   "cell_type": "code",
   "execution_count": 21,
   "id": "65661336",
   "metadata": {},
   "outputs": [
    {
     "name": "stdout",
     "output_type": "stream",
     "text": [
      "[ 1.61168440e+01+0.j -1.11684397e+00+0.j -3.38433605e-16+0.j]\n",
      "[[-0.23197069 -0.78583024  0.40824829]\n",
      " [-0.52532209 -0.08675134 -0.81649658]\n",
      " [-0.8186735   0.61232756  0.40824829]]\n"
     ]
    }
   ],
   "source": [
    "Result=linalg.eig(A)\n",
    "print(Result[0])  #eigenvalues\n",
    "print(Result[1])  #eigenvectors"
   ]
  },
  {
   "cell_type": "markdown",
   "id": "136a1fea",
   "metadata": {},
   "source": [
    "# Calculate the inverse, determinant of A"
   ]
  },
  {
   "cell_type": "code",
   "execution_count": 30,
   "id": "21d0955b",
   "metadata": {},
   "outputs": [
    {
     "name": "stdout",
     "output_type": "stream",
     "text": [
      "[[ 3.15251974e+15 -6.30503948e+15  3.15251974e+15]\n",
      " [-6.30503948e+15  1.26100790e+16 -6.30503948e+15]\n",
      " [ 3.15251974e+15 -6.30503948e+15  3.15251974e+15]]\n"
     ]
    },
    {
     "data": {
      "text/plain": [
       "array([[ 0. ,  1. , -0.5],\n",
       "       [ 0. ,  2. , -1. ],\n",
       "       [-4. ,  3. , -1.5]])"
      ]
     },
     "execution_count": 30,
     "metadata": {},
     "output_type": "execute_result"
    }
   ],
   "source": [
    "print(linalg.inv(A))\n",
    "np.dot(A,linalg.inv(A))                         # A is a singular Matrix. The inverse of a singular matrix is not defined"
   ]
  },
  {
   "cell_type": "code",
   "execution_count": 26,
   "id": "5dec3f4f",
   "metadata": {},
   "outputs": [
    {
     "name": "stdout",
     "output_type": "stream",
     "text": [
      "[[-26.60250161   5.34935007  35.37088355]\n",
      " [ 10.59020755   0.75762496 -15.36636087]\n",
      " [ -6.94191808  -1.25293828  12.29203782]]\n"
     ]
    },
    {
     "data": {
      "text/plain": [
       "array([[ 1.00000000e+00,  1.43305335e-16,  1.05469912e-15],\n",
       "       [ 1.98412724e-16,  1.00000000e+00, -1.72629760e-16],\n",
       "       [-5.72507465e-16,  7.48387536e-17,  1.00000000e+00]])"
      ]
     },
     "execution_count": 26,
     "metadata": {},
     "output_type": "execute_result"
    }
   ],
   "source": [
    "print(linalg.inv(A1))\n",
    "\n",
    "np.dot(A1,linalg.inv(A1))    "
   ]
  },
  {
   "cell_type": "code",
   "execution_count": 27,
   "id": "32461d66",
   "metadata": {},
   "outputs": [
    {
     "data": {
      "text/plain": [
       "-0.006916006150935883"
      ]
     },
     "execution_count": 27,
     "metadata": {},
     "output_type": "execute_result"
    }
   ],
   "source": [
    "linalg.det(A1)"
   ]
  },
  {
   "cell_type": "code",
   "execution_count": 28,
   "id": "1061201f",
   "metadata": {},
   "outputs": [
    {
     "data": {
      "text/plain": [
       "0.0"
      ]
     },
     "execution_count": 28,
     "metadata": {},
     "output_type": "execute_result"
    }
   ],
   "source": [
    "linalg.det(A)    # A is a singular matrix"
   ]
  },
  {
   "cell_type": "markdown",
   "id": "9f0797ec",
   "metadata": {},
   "source": [
    "# Calculate the norm of A with different orders"
   ]
  },
  {
   "cell_type": "code",
   "execution_count": 32,
   "id": "cf5b9146",
   "metadata": {},
   "outputs": [
    {
     "data": {
      "text/plain": [
       "18.0"
      ]
     },
     "execution_count": 32,
     "metadata": {},
     "output_type": "execute_result"
    }
   ],
   "source": [
    "linalg.norm(A,1)"
   ]
  },
  {
   "cell_type": "code",
   "execution_count": 33,
   "id": "225d256f",
   "metadata": {},
   "outputs": [
    {
     "data": {
      "text/plain": [
       "16.84810335261421"
      ]
     },
     "execution_count": 33,
     "metadata": {},
     "output_type": "execute_result"
    }
   ],
   "source": [
    "linalg.norm(A,2)"
   ]
  },
  {
   "cell_type": "code",
   "execution_count": 34,
   "id": "ad471f2a",
   "metadata": {},
   "outputs": [
    {
     "data": {
      "text/plain": [
       "3.3347528650314325e-16"
      ]
     },
     "execution_count": 34,
     "metadata": {},
     "output_type": "execute_result"
    }
   ],
   "source": [
    "linalg.norm(A,-2)"
   ]
  },
  {
   "cell_type": "code",
   "execution_count": null,
   "id": "982035e1",
   "metadata": {},
   "outputs": [],
   "source": []
  }
 ],
 "metadata": {
  "kernelspec": {
   "display_name": "Python 3 (ipykernel)",
   "language": "python",
   "name": "python3"
  },
  "language_info": {
   "codemirror_mode": {
    "name": "ipython",
    "version": 3
   },
   "file_extension": ".py",
   "mimetype": "text/x-python",
   "name": "python",
   "nbconvert_exporter": "python",
   "pygments_lexer": "ipython3",
   "version": "3.9.7"
  }
 },
 "nbformat": 4,
 "nbformat_minor": 5
}
