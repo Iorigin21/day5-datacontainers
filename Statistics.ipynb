{
 "cells": [
  {
   "cell_type": "code",
   "execution_count": 9,
   "id": "2ec0e118",
   "metadata": {},
   "outputs": [],
   "source": [
    "import numpy as np\n",
    "from scipy import stats\n",
    "import matplotlib.pyplot as plt"
   ]
  },
  {
   "cell_type": "markdown",
   "id": "d68d9a86",
   "metadata": {},
   "source": [
    "# discrete random variable with poissonian distribution"
   ]
  },
  {
   "cell_type": "code",
   "execution_count": 18,
   "id": "bbb80231",
   "metadata": {},
   "outputs": [],
   "source": [
    "X=stats.poisson(5)  #random variable with poissionion distribution"
   ]
  },
  {
   "cell_type": "code",
   "execution_count": 19,
   "id": "953b5877",
   "metadata": {},
   "outputs": [
    {
     "data": {
      "text/plain": [
       "(array([ 39.,  79., 137., 343., 161., 101., 107.,  22.,   8.,   3.]),\n",
       " array([ 0. ,  1.3,  2.6,  3.9,  5.2,  6.5,  7.8,  9.1, 10.4, 11.7, 13. ]),\n",
       " <BarContainer object of 10 artists>)"
      ]
     },
     "execution_count": 19,
     "metadata": {},
     "output_type": "execute_result"
    },
    {
     "data": {
      "image/png": "[encoded data removed]",
      "text/plain": [
       "<Figure size 432x288 with 3 Axes>"
      ]
     },
     "metadata": {
      "needs_background": "light"
     },
     "output_type": "display_data"
    }
   ],
   "source": [
    "n=np.arange(0,15)\n",
    "fig,axes=plt.subplots(3,1,sharex=True)\n",
    "axes[0].step(n,X.pmf(n))                                     #probability mass function\n",
    "axes[1].step(n,X.cdf(n))                                    #commulative distribution function\n",
    "axes[2].hist(X.rvs(size=1000))                             #histogram of 1000 random realizations of the stochasitc variable x"
   ]
  },
  {
   "cell_type": "markdown",
   "id": "e80c0953",
   "metadata": {},
   "source": [
    "# continious random variable with normal distribution"
   ]
  },
  {
   "cell_type": "code",
   "execution_count": 20,
   "id": "424df8e7",
   "metadata": {},
   "outputs": [],
   "source": [
    "Y = stats.norm()"
   ]
  },
  {
   "cell_type": "code",
   "execution_count": 22,
   "id": "db255129",
   "metadata": {},
   "outputs": [
    {
     "data": {
      "text/plain": [
       "(array([ 3.,  1.,  1.,  3.,  1.,  2.,  4.,  7.,  7.,  8., 13., 19., 20.,\n",
       "        36., 33., 21., 29., 33., 43., 42., 39., 42., 54., 51., 42., 43.,\n",
       "        45., 55., 37., 31., 38., 32., 28., 25., 23., 16., 13., 10.,  7.,\n",
       "        15.,  9.,  2.,  3.,  3.,  3.,  2.,  2.,  3.,  0.,  1.]),\n",
       " array([-2.83740139, -2.71699786, -2.59659432, -2.47619079, -2.35578725,\n",
       "        -2.23538372, -2.11498018, -1.99457665, -1.87417311, -1.75376958,\n",
       "        -1.63336604, -1.51296251, -1.39255897, -1.27215544, -1.1517519 ,\n",
       "        -1.03134837, -0.91094483, -0.7905413 , -0.67013776, -0.54973423,\n",
       "        -0.42933069, -0.30892716, -0.18852363, -0.06812009,  0.05228344,\n",
       "         0.17268698,  0.29309051,  0.41349405,  0.53389758,  0.65430112,\n",
       "         0.77470465,  0.89510819,  1.01551172,  1.13591526,  1.25631879,\n",
       "         1.37672233,  1.49712586,  1.6175294 ,  1.73793293,  1.85833647,\n",
       "         1.97874   ,  2.09914354,  2.21954707,  2.3399506 ,  2.46035414,\n",
       "         2.58075767,  2.70116121,  2.82156474,  2.94196828,  3.06237181,\n",
       "         3.18277535]),\n",
       " <BarContainer object of 50 artists>)"
      ]
     },
     "execution_count": 22,
     "metadata": {},
     "output_type": "execute_result"
    },
    {
     "data": {
      "image/png": "[encoded data removed]",
      "text/plain": [
       "<Figure size 432x288 with 3 Axes>"
      ]
     },
     "metadata": {
      "needs_background": "light"
     },
     "output_type": "display_data"
    }
   ],
   "source": [
    "x=np.linspace(-5,5,100)\n",
    "fig,axes = plt.subplots(3,1,sharex=True)\n",
    "axes[0].plot(x,Y.pdf(x))\n",
    "axes[1].plot(x,Y.cdf(x))\n",
    "axes[2].hist(Y.rvs(size=1000),bins=50)"
   ]
  },
  {
   "cell_type": "markdown",
   "id": "3bb5f588",
   "metadata": {},
   "source": [
    "# Statistical tests"
   ]
  },
  {
   "cell_type": "code",
   "execution_count": 23,
   "id": "e5491ebd",
   "metadata": {},
   "outputs": [
    {
     "data": {
      "text/plain": [
       "(5.0, 2.23606797749979, 5.0)"
      ]
     },
     "execution_count": 23,
     "metadata": {},
     "output_type": "execute_result"
    }
   ],
   "source": [
    "X.mean(),X.std(),X.var()   #poission distribution"
   ]
  },
  {
   "cell_type": "code",
   "execution_count": 24,
   "id": "b60cf4b7",
   "metadata": {},
   "outputs": [
    {
     "data": {
      "text/plain": [
       "(0.0, 1.0, 1.0)"
      ]
     },
     "execution_count": 24,
     "metadata": {},
     "output_type": "execute_result"
    }
   ],
   "source": [
    "Y.mean(),Y.std(),Y.var()  #normal distribution"
   ]
  },
  {
   "cell_type": "code",
   "execution_count": 27,
   "id": "ce887347",
   "metadata": {},
   "outputs": [
    {
     "name": "stdout",
     "output_type": "stream",
     "text": [
      "t-statistic = 1.0491695250983222\n",
      "p-value = 0.29422699086004145\n"
     ]
    }
   ],
   "source": [
    "t_statistic, p_value =stats.ttest_ind(X.rvs(size=1000),X.rvs(size=1000))\n",
    "print (\"t-statistic =\", t_statistic)\n",
    "print (\"p-value =\", p_value)"
   ]
  },
  {
   "cell_type": "code",
   "execution_count": null,
   "id": "ba918735",
   "metadata": {},
   "outputs": [],
   "source": []
  }
 ],
 "metadata": {
  "kernelspec": {
   "display_name": "Python 3 (ipykernel)",
   "language": "python",
   "name": "python3"
  },
  "language_info": {
   "codemirror_mode": {
    "name": "ipython",
    "version": 3
   },
   "file_extension": ".py",
   "mimetype": "text/x-python",
   "name": "python",
   "nbconvert_exporter": "python",
   "pygments_lexer": "ipython3",
   "version": "3.9.7"
  }
 },
 "nbformat": 4,
 "nbformat_minor": 5
}
